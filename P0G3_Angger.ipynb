{
 "cells": [
  {
   "cell_type": "markdown",
   "metadata": {},
   "source": [
    "\n",
    "===============================================================================================  \n",
    "\n",
    "Web Scraping Analysis: Product Seblak from Tokopedia\n",
    "\n",
    "By __Angger Rizky Firdaus__  \n",
    "This project is developed to accomplish Graded Challenge 3 of the FTDS Hacktiv8 program.  \n",
    "Performing web scraping on Tokopedia's e-commerce platform for seblak products to analyze the seblak market on the platform.\n",
    "\n",
    "\n",
    "===============================================================================================  \n",
    "\n"
   ]
  },
  {
   "cell_type": "markdown",
   "metadata": {},
   "source": [
    "## __Background__"
   ]
  },
  {
   "cell_type": "markdown",
   "metadata": {},
   "source": [
    "The initial objective of this project is to conduct data analysis on seblak products available on Tokopedia. This analysis aims to provide insights into the seblak market trends and patterns on Tokopedia before initiating the dropshipping business. What I would do is do:\n",
    "a. webscrapping\n",
    "b. Data preparation\n",
    "c. Business Understanding (SMART framework)\n",
    "d. Analysis"
   ]
  },
  {
   "cell_type": "code",
   "execution_count": 2,
   "metadata": {},
   "outputs": [],
   "source": [
    "# List of libraries used\n",
    "from scipy import stats\n",
    "import numpy as np\n",
    "import pandas as pd\n",
    "from selenium import webdriver\n",
    "from bs4 import BeautifulSoup\n",
    "import requests\n",
    "\n",
    "np.random.seed(10)"
   ]
  },
  {
   "cell_type": "markdown",
   "metadata": {},
   "source": [
    "## __Web Scrapping__"
   ]
  },
  {
   "cell_type": "markdown",
   "metadata": {},
   "source": [
    "Scraping the search results using the keyword \"seblak\" on the Tokopedia platform to gather information such as Product Name, Product Price, Seller, City of Store, Number of Items Sold, and Product Rating."
   ]
  },
  {
   "cell_type": "code",
   "execution_count": 54,
   "metadata": {},
   "outputs": [],
   "source": [
    "# Syntax to activate the webdriver that uses the browser used.\n",
    "driver = webdriver.Edge()"
   ]
  },
  {
   "cell_type": "code",
   "execution_count": 55,
   "metadata": {},
   "outputs": [],
   "source": [
    "# syntax to automatically open the desired link in a previously opened browser.\n",
    "tokped = 'https://www.tokopedia.com/search?navsource=&page=1&q=seblak&srp_component_id=02.01.00.00&srp_page_id=&srp_page_title=&st='\n",
    "\n",
    "driver.get(tokped)"
   ]
  },
  {
   "cell_type": "code",
   "execution_count": 56,
   "metadata": {},
   "outputs": [],
   "source": [
    "# syntax to save the html contained in the website that is open at that time.\n",
    "html = driver.page_source"
   ]
  },
  {
   "cell_type": "markdown",
   "metadata": {},
   "source": [
    "The HTML that is saved is only what the website displays in real time."
   ]
  },
  {
   "cell_type": "code",
   "execution_count": null,
   "metadata": {},
   "outputs": [],
   "source": [
    "# syntax to display html that has been stored in the previous html variable.\n",
    "soup = BeautifulSoup(html,'html.parser')\n",
    "print(soup.prettify())"
   ]
  },
  {
   "cell_type": "markdown",
   "metadata": {},
   "source": [
    "The function of beautiful soup and prettify is to display the HTML/abstract code above neatly."
   ]
  },
  {
   "cell_type": "code",
   "execution_count": null,
   "metadata": {},
   "outputs": [],
   "source": [
    "# # html for item names on Tokopedia.\n",
    "\n",
    "# <div class=\"prd_link-product-name css-3um8ox\" data-testid=\"spnSRPProdName\">Gelifood Seblak Instan Kerupuk Mawar Bumbu Kencur Rafael Pedas Gurih</div>"
   ]
  },
  {
   "cell_type": "code",
   "execution_count": null,
   "metadata": {},
   "outputs": [],
   "source": [
    "# # html price of goods on Tokopedia.\n",
    "# <div class=\"prd_link-product-price css-h66vau\" data-testid=\"spnSRPProdPrice\">Rp13.000</div>"
   ]
  },
  {
   "cell_type": "code",
   "execution_count": null,
   "metadata": {},
   "outputs": [],
   "source": [
    "# # html city of goods seller on Tokopedia.\n",
    "\n",
    "# <span class=\"prd_link-shop-loc css-1kdc32b flip\" data-testid=\"spnSRPProdTabShopLoc\">Kab. Garut</span>"
   ]
  },
  {
   "cell_type": "code",
   "execution_count": null,
   "metadata": {},
   "outputs": [],
   "source": [
    "# # html seller of goods on Tokopedia.\n",
    "\n",
    "# <span class=\"prd_link-shop-name css-1kdc32b flip\" data-testid=\"\">Lidigeli</span>"
   ]
  },
  {
   "cell_type": "code",
   "execution_count": null,
   "metadata": {},
   "outputs": [],
   "source": [
    "# # html item rating on Tokopedia.\n",
    "\n",
    "# <span class=\"prd_rating-average-text css-t70v7i\" data-testid=\"\">4.8</span>"
   ]
  },
  {
   "cell_type": "code",
   "execution_count": null,
   "metadata": {},
   "outputs": [],
   "source": [
    "# # html number of goods sold on Tokopedia.\n",
    "# <span class=\"prd_label-integrity css-1sgek4h\" data-testid=\"\">250+ terjual</span>"
   ]
  },
  {
   "cell_type": "code",
   "execution_count": 70,
   "metadata": {},
   "outputs": [],
   "source": [
    "# Syntax for doing webscraping.\n",
    "\n",
    "# empty list to store the required information\n",
    "list_nama = []\n",
    "list_harga = []\n",
    "list_penjual = []\n",
    "list_kota = []\n",
    "list_sold = []\n",
    "list_rating = []\n",
    "\n",
    "# syntax for looping a website of 10 pages\n",
    "for i in range(1,11):\n",
    "    tokped_link = (f'https://www.tokopedia.com/search?navsource=&page={i}&q=seblak&srp_component_id=02.01.00.00&srp_page_id=&srp_page_title=&st=')\n",
    "    driver.get(tokped_link)\n",
    "    \n",
    "  # syntax for scrolling slowly to get all the desired data.\n",
    "    total_height = int(driver.execute_script(\"return document.body.scrollHeight\"))\n",
    "    for i in range(1, total_height, 5):\n",
    "        driver.execute_script(\"window.scrollTo(0, {});\".format(i))\n",
    "    html = driver.page_source\n",
    "    soup = BeautifulSoup(html, 'html.parser')\n",
    "    # syntax to search for the class and attributes of the desired html (desired section.)\n",
    "    elements = soup.find_all('div', {'class':\"css-jza1fo\",\n",
    "                                     'class' :\"css-llwpbs\"})\n",
    "        \n",
    "    #result of looping from var. elements are reduced by looping to search\n",
    "    #name, price, seller, city, rating and quantity sold.                 \n",
    "    for el in elements:\n",
    "        try:\n",
    "            nama = el.find('div', {'class':\"prd_link-product-name css-3um8ox\",\n",
    "                                    'data-testid':\"spnSRPProdName\"})\n",
    "            list_nama.append(nama.get_text())\n",
    "        except:\n",
    "            list_nama.append(None)\n",
    "\n",
    "        try:\n",
    "            harga = el.find('div', {'class':\"prd_link-product-price css-h66vau\",\n",
    "                                    'data-testid':\"spnSRPProdPrice\"})\n",
    "            list_harga.append(harga.get_text())\n",
    "        except:\n",
    "            list_harga.append(None)\n",
    "\n",
    "        try:\n",
    "            penjual = el.find('span', {'class':\"prd_link-shop-name css-1kdc32b flip\",\n",
    "                                    'data-testid':\"\"})\n",
    "            list_penjual.append(penjual.get_text())\n",
    "        except:\n",
    "            list_penjual.append(None)\n",
    "\n",
    "        try:\n",
    "            kota = el.find('span', {'class':\"prd_link-shop-loc css-1kdc32b flip\",\n",
    "                                    'data-testid':\"spnSRPProdTabShopLoc\"})\n",
    "            list_kota.append(kota.get_text())\n",
    "        except:\n",
    "            list_kota.append(None)\n",
    "        try:\n",
    "            sold = el.find('span', {'class':\"prd_label-integrity css-1sgek4h\",\n",
    "                                    'data-testid':\"\"})\n",
    "            list_sold.append(sold.get_text())\n",
    "        except:\n",
    "            list_sold.append(None)\n",
    "\n",
    "        try:\n",
    "            rating = el.find('span', {'class':\"prd_rating-average-text css-t70v7i\",\n",
    "                                    'data-testid':\"\"})\n",
    "            list_rating.append(rating.get_text())\n",
    "        except:\n",
    "            list_rating.append(None)\n",
    "\n",
    "\n"
   ]
  },
  {
   "cell_type": "code",
   "execution_count": 71,
   "metadata": {},
   "outputs": [
    {
     "name": "stdout",
     "output_type": "stream",
     "text": [
      "849\n",
      "849\n",
      "849\n",
      "849\n",
      "849\n",
      "849\n"
     ]
    }
   ],
   "source": [
    "# to calculate the amount of data obtained from the results of webscraping 10 pages.\n",
    "print(len(list_nama))\n",
    "print(len(list_harga))\n",
    "print(len(list_penjual))\n",
    "print(len(list_kota))\n",
    "print(len(list_sold))\n",
    "print(len(list_rating))"
   ]
  },
  {
   "cell_type": "markdown",
   "metadata": {},
   "source": [
    "The data in each list must match each other so that it can be prepared into a dataframe table. so that the webscrapping syntax contains an except function for error data which can be saved with null/none data."
   ]
  },
  {
   "cell_type": "code",
   "execution_count": 72,
   "metadata": {},
   "outputs": [],
   "source": [
    "# Syntax for creating a dataframe/table for the webscraping results of the Tokopedia website.\n",
    "tokped_df = pd.DataFrame({\n",
    "    'nama_produk' : list_nama,\n",
    "    'harga_produk' : list_harga,\n",
    "    'penjual' : list_penjual,\n",
    "    'lokasi_toko': list_kota,\n",
    "    'jumlah_terjual' : list_sold,\n",
    "    'rating_produk' : list_rating\n",
    "})"
   ]
  },
  {
   "cell_type": "code",
   "execution_count": 73,
   "metadata": {},
   "outputs": [
    {
     "data": {
      "text/html": [
       "<div>\n",
       "<style scoped>\n",
       "    .dataframe tbody tr th:only-of-type {\n",
       "        vertical-align: middle;\n",
       "    }\n",
       "\n",
       "    .dataframe tbody tr th {\n",
       "        vertical-align: top;\n",
       "    }\n",
       "\n",
       "    .dataframe thead th {\n",
       "        text-align: right;\n",
       "    }\n",
       "</style>\n",
       "<table border=\"1\" class=\"dataframe\">\n",
       "  <thead>\n",
       "    <tr style=\"text-align: right;\">\n",
       "      <th></th>\n",
       "      <th>nama_produk</th>\n",
       "      <th>harga_produk</th>\n",
       "      <th>penjual</th>\n",
       "      <th>lokasi_toko</th>\n",
       "      <th>jumlah_terjual</th>\n",
       "      <th>rating_produk</th>\n",
       "    </tr>\n",
       "  </thead>\n",
       "  <tbody>\n",
       "    <tr>\n",
       "      <th>0</th>\n",
       "      <td>Gelifood Seblak Instan Kerupuk Mawar Bumbu Ken...</td>\n",
       "      <td>Rp13.000</td>\n",
       "      <td>Lidigeli</td>\n",
       "      <td>Kab. Garut</td>\n",
       "      <td>250+ terjual</td>\n",
       "      <td>4.8</td>\n",
       "    </tr>\n",
       "    <tr>\n",
       "      <th>1</th>\n",
       "      <td>Kylafood Seblak Original Play</td>\n",
       "      <td>Rp15.050</td>\n",
       "      <td>kylafood</td>\n",
       "      <td>Bandung</td>\n",
       "      <td>1rb+ terjual</td>\n",
       "      <td>5.0</td>\n",
       "    </tr>\n",
       "    <tr>\n",
       "      <th>2</th>\n",
       "      <td>Seblak Rafael, Seblak Coet Instan Halal</td>\n",
       "      <td>Rp25.000</td>\n",
       "      <td>Brother Meat Shop</td>\n",
       "      <td>Depok</td>\n",
       "      <td>100+ terjual</td>\n",
       "      <td>4.9</td>\n",
       "    </tr>\n",
       "    <tr>\n",
       "      <th>3</th>\n",
       "      <td>Seblak Instan Ceu Nthien Khas Bandung Rasana N...</td>\n",
       "      <td>Rp17.000</td>\n",
       "      <td>Central Seblak Nusantara</td>\n",
       "      <td>Tangerang Selatan</td>\n",
       "      <td>2rb+ terjual</td>\n",
       "      <td>4.9</td>\n",
       "    </tr>\n",
       "    <tr>\n",
       "      <th>4</th>\n",
       "      <td>KERUPUK SEBLAK MENTAH ANEKA WARNA</td>\n",
       "      <td>Rp11.500</td>\n",
       "      <td>jajanangarut19</td>\n",
       "      <td>Jakarta Selatan</td>\n",
       "      <td>250+ terjual</td>\n",
       "      <td>4.9</td>\n",
       "    </tr>\n",
       "    <tr>\n",
       "      <th>...</th>\n",
       "      <td>...</td>\n",
       "      <td>...</td>\n",
       "      <td>...</td>\n",
       "      <td>...</td>\n",
       "      <td>...</td>\n",
       "      <td>...</td>\n",
       "    </tr>\n",
       "    <tr>\n",
       "      <th>844</th>\n",
       "      <td>Seblak Instan Sehati</td>\n",
       "      <td>Rp13.000</td>\n",
       "      <td>Official Kartika Sari</td>\n",
       "      <td>Bandung</td>\n",
       "      <td>500+ terjual</td>\n",
       "      <td>5.0</td>\n",
       "    </tr>\n",
       "    <tr>\n",
       "      <th>845</th>\n",
       "      <td>Bumbu Seblak - Cairo Food</td>\n",
       "      <td>Rp25.500</td>\n",
       "      <td>Cairo Food</td>\n",
       "      <td>Jakarta Pusat</td>\n",
       "      <td>29 terjual</td>\n",
       "      <td>5.0</td>\n",
       "    </tr>\n",
       "    <tr>\n",
       "      <th>846</th>\n",
       "      <td>KERUPUK/KRUPUK SEBLAK RASA PEDAS TERLARIS ISI ...</td>\n",
       "      <td>Rp16.695</td>\n",
       "      <td>Toko kue Sumber Mas</td>\n",
       "      <td>Jakarta Timur</td>\n",
       "      <td>250+ terjual</td>\n",
       "      <td>4.9</td>\n",
       "    </tr>\n",
       "    <tr>\n",
       "      <th>847</th>\n",
       "      <td>Seblak Merah Pedas / Kerupuk Bawang Oleh Oleh ...</td>\n",
       "      <td>Rp9.000</td>\n",
       "      <td>The Little Snacks</td>\n",
       "      <td>Tangerang Selatan</td>\n",
       "      <td>500+ terjual</td>\n",
       "      <td>4.9</td>\n",
       "    </tr>\n",
       "    <tr>\n",
       "      <th>848</th>\n",
       "      <td>SEBLAK JUARA INSTAN MASAK BASAH ASLI BANDUNG E...</td>\n",
       "      <td>Rp22.000</td>\n",
       "      <td>Rasa Juara Indonesia</td>\n",
       "      <td>Kab. Bandung</td>\n",
       "      <td>1rb+ terjual</td>\n",
       "      <td>4.9</td>\n",
       "    </tr>\n",
       "  </tbody>\n",
       "</table>\n",
       "<p>849 rows × 6 columns</p>\n",
       "</div>"
      ],
      "text/plain": [
       "                                           nama_produk harga_produk  \\\n",
       "0    Gelifood Seblak Instan Kerupuk Mawar Bumbu Ken...     Rp13.000   \n",
       "1                        Kylafood Seblak Original Play     Rp15.050   \n",
       "2              Seblak Rafael, Seblak Coet Instan Halal     Rp25.000   \n",
       "3    Seblak Instan Ceu Nthien Khas Bandung Rasana N...     Rp17.000   \n",
       "4                    KERUPUK SEBLAK MENTAH ANEKA WARNA     Rp11.500   \n",
       "..                                                 ...          ...   \n",
       "844                               Seblak Instan Sehati     Rp13.000   \n",
       "845                          Bumbu Seblak - Cairo Food     Rp25.500   \n",
       "846  KERUPUK/KRUPUK SEBLAK RASA PEDAS TERLARIS ISI ...     Rp16.695   \n",
       "847  Seblak Merah Pedas / Kerupuk Bawang Oleh Oleh ...      Rp9.000   \n",
       "848  SEBLAK JUARA INSTAN MASAK BASAH ASLI BANDUNG E...     Rp22.000   \n",
       "\n",
       "                      penjual        lokasi_toko jumlah_terjual rating_produk  \n",
       "0                    Lidigeli         Kab. Garut   250+ terjual           4.8  \n",
       "1                    kylafood            Bandung   1rb+ terjual           5.0  \n",
       "2           Brother Meat Shop              Depok   100+ terjual           4.9  \n",
       "3    Central Seblak Nusantara  Tangerang Selatan   2rb+ terjual           4.9  \n",
       "4              jajanangarut19    Jakarta Selatan   250+ terjual           4.9  \n",
       "..                        ...                ...            ...           ...  \n",
       "844     Official Kartika Sari            Bandung   500+ terjual           5.0  \n",
       "845                Cairo Food      Jakarta Pusat     29 terjual           5.0  \n",
       "846       Toko kue Sumber Mas      Jakarta Timur   250+ terjual           4.9  \n",
       "847         The Little Snacks  Tangerang Selatan   500+ terjual           4.9  \n",
       "848      Rasa Juara Indonesia       Kab. Bandung   1rb+ terjual           4.9  \n",
       "\n",
       "[849 rows x 6 columns]"
      ]
     },
     "execution_count": 73,
     "metadata": {},
     "output_type": "execute_result"
    }
   ],
   "source": [
    "#finished table.\n",
    "tokped_df"
   ]
  },
  {
   "cell_type": "code",
   "execution_count": 74,
   "metadata": {},
   "outputs": [],
   "source": [
    "#storing dataframe table results in a CSV file.\n",
    "tokped_df.to_csv('P0G3_Angger_tokped.csv', index=False)"
   ]
  },
  {
   "cell_type": "markdown",
   "metadata": {},
   "source": [
    "## __Data Preparation__"
   ]
  },
  {
   "cell_type": "markdown",
   "metadata": {},
   "source": [
    "Perform 2 tasks for data preparation:\n",
    "\n",
    "1. Data Exploration:\n",
    "   Display summaries of the data and write insights derived from it.\n",
    "\n",
    "2. Data Cleaning:\n",
    "   Cleanse columns containing unnecessary symbols or characters, handle missing values, and adjust data types for columns that do not match their values."
   ]
  },
  {
   "cell_type": "markdown",
   "metadata": {},
   "source": [
    "### Data Exploration"
   ]
  },
  {
   "cell_type": "code",
   "execution_count": 3,
   "metadata": {},
   "outputs": [],
   "source": [
    "#display data in a csv file for pandas to read.\n",
    "tokped = pd.read_csv('P0G3_Angger_tokped.csv')"
   ]
  },
  {
   "cell_type": "code",
   "execution_count": 4,
   "metadata": {},
   "outputs": [
    {
     "data": {
      "text/html": [
       "<div>\n",
       "<style scoped>\n",
       "    .dataframe tbody tr th:only-of-type {\n",
       "        vertical-align: middle;\n",
       "    }\n",
       "\n",
       "    .dataframe tbody tr th {\n",
       "        vertical-align: top;\n",
       "    }\n",
       "\n",
       "    .dataframe thead th {\n",
       "        text-align: right;\n",
       "    }\n",
       "</style>\n",
       "<table border=\"1\" class=\"dataframe\">\n",
       "  <thead>\n",
       "    <tr style=\"text-align: right;\">\n",
       "      <th></th>\n",
       "      <th>nama_produk</th>\n",
       "      <th>harga_produk</th>\n",
       "      <th>penjual</th>\n",
       "      <th>lokasi_toko</th>\n",
       "      <th>jumlah_terjual</th>\n",
       "      <th>rating_produk</th>\n",
       "    </tr>\n",
       "  </thead>\n",
       "  <tbody>\n",
       "    <tr>\n",
       "      <th>0</th>\n",
       "      <td>Gelifood Seblak Instan Kerupuk Mawar Bumbu Ken...</td>\n",
       "      <td>Rp13.000</td>\n",
       "      <td>Lidigeli</td>\n",
       "      <td>Kab. Garut</td>\n",
       "      <td>250+ terjual</td>\n",
       "      <td>4.8</td>\n",
       "    </tr>\n",
       "    <tr>\n",
       "      <th>1</th>\n",
       "      <td>Kylafood Seblak Original Play</td>\n",
       "      <td>Rp15.050</td>\n",
       "      <td>kylafood</td>\n",
       "      <td>Bandung</td>\n",
       "      <td>1rb+ terjual</td>\n",
       "      <td>5.0</td>\n",
       "    </tr>\n",
       "    <tr>\n",
       "      <th>2</th>\n",
       "      <td>Seblak Rafael, Seblak Coet Instan Halal</td>\n",
       "      <td>Rp25.000</td>\n",
       "      <td>Brother Meat Shop</td>\n",
       "      <td>Depok</td>\n",
       "      <td>100+ terjual</td>\n",
       "      <td>4.9</td>\n",
       "    </tr>\n",
       "    <tr>\n",
       "      <th>3</th>\n",
       "      <td>Seblak Instan Ceu Nthien Khas Bandung Rasana N...</td>\n",
       "      <td>Rp17.000</td>\n",
       "      <td>Central Seblak Nusantara</td>\n",
       "      <td>Tangerang Selatan</td>\n",
       "      <td>2rb+ terjual</td>\n",
       "      <td>4.9</td>\n",
       "    </tr>\n",
       "    <tr>\n",
       "      <th>4</th>\n",
       "      <td>KERUPUK SEBLAK MENTAH ANEKA WARNA</td>\n",
       "      <td>Rp11.500</td>\n",
       "      <td>jajanangarut19</td>\n",
       "      <td>Jakarta Selatan</td>\n",
       "      <td>250+ terjual</td>\n",
       "      <td>4.9</td>\n",
       "    </tr>\n",
       "    <tr>\n",
       "      <th>...</th>\n",
       "      <td>...</td>\n",
       "      <td>...</td>\n",
       "      <td>...</td>\n",
       "      <td>...</td>\n",
       "      <td>...</td>\n",
       "      <td>...</td>\n",
       "    </tr>\n",
       "    <tr>\n",
       "      <th>844</th>\n",
       "      <td>Seblak Instan Sehati</td>\n",
       "      <td>Rp13.000</td>\n",
       "      <td>Official Kartika Sari</td>\n",
       "      <td>Bandung</td>\n",
       "      <td>500+ terjual</td>\n",
       "      <td>5.0</td>\n",
       "    </tr>\n",
       "    <tr>\n",
       "      <th>845</th>\n",
       "      <td>Bumbu Seblak - Cairo Food</td>\n",
       "      <td>Rp25.500</td>\n",
       "      <td>Cairo Food</td>\n",
       "      <td>Jakarta Pusat</td>\n",
       "      <td>29 terjual</td>\n",
       "      <td>5.0</td>\n",
       "    </tr>\n",
       "    <tr>\n",
       "      <th>846</th>\n",
       "      <td>KERUPUK/KRUPUK SEBLAK RASA PEDAS TERLARIS ISI ...</td>\n",
       "      <td>Rp16.695</td>\n",
       "      <td>Toko kue Sumber Mas</td>\n",
       "      <td>Jakarta Timur</td>\n",
       "      <td>250+ terjual</td>\n",
       "      <td>4.9</td>\n",
       "    </tr>\n",
       "    <tr>\n",
       "      <th>847</th>\n",
       "      <td>Seblak Merah Pedas / Kerupuk Bawang Oleh Oleh ...</td>\n",
       "      <td>Rp9.000</td>\n",
       "      <td>The Little Snacks</td>\n",
       "      <td>Tangerang Selatan</td>\n",
       "      <td>500+ terjual</td>\n",
       "      <td>4.9</td>\n",
       "    </tr>\n",
       "    <tr>\n",
       "      <th>848</th>\n",
       "      <td>SEBLAK JUARA INSTAN MASAK BASAH ASLI BANDUNG E...</td>\n",
       "      <td>Rp22.000</td>\n",
       "      <td>Rasa Juara Indonesia</td>\n",
       "      <td>Kab. Bandung</td>\n",
       "      <td>1rb+ terjual</td>\n",
       "      <td>4.9</td>\n",
       "    </tr>\n",
       "  </tbody>\n",
       "</table>\n",
       "<p>849 rows × 6 columns</p>\n",
       "</div>"
      ],
      "text/plain": [
       "                                           nama_produk harga_produk  \\\n",
       "0    Gelifood Seblak Instan Kerupuk Mawar Bumbu Ken...     Rp13.000   \n",
       "1                        Kylafood Seblak Original Play     Rp15.050   \n",
       "2              Seblak Rafael, Seblak Coet Instan Halal     Rp25.000   \n",
       "3    Seblak Instan Ceu Nthien Khas Bandung Rasana N...     Rp17.000   \n",
       "4                    KERUPUK SEBLAK MENTAH ANEKA WARNA     Rp11.500   \n",
       "..                                                 ...          ...   \n",
       "844                               Seblak Instan Sehati     Rp13.000   \n",
       "845                          Bumbu Seblak - Cairo Food     Rp25.500   \n",
       "846  KERUPUK/KRUPUK SEBLAK RASA PEDAS TERLARIS ISI ...     Rp16.695   \n",
       "847  Seblak Merah Pedas / Kerupuk Bawang Oleh Oleh ...      Rp9.000   \n",
       "848  SEBLAK JUARA INSTAN MASAK BASAH ASLI BANDUNG E...     Rp22.000   \n",
       "\n",
       "                      penjual        lokasi_toko jumlah_terjual  rating_produk  \n",
       "0                    Lidigeli         Kab. Garut   250+ terjual            4.8  \n",
       "1                    kylafood            Bandung   1rb+ terjual            5.0  \n",
       "2           Brother Meat Shop              Depok   100+ terjual            4.9  \n",
       "3    Central Seblak Nusantara  Tangerang Selatan   2rb+ terjual            4.9  \n",
       "4              jajanangarut19    Jakarta Selatan   250+ terjual            4.9  \n",
       "..                        ...                ...            ...            ...  \n",
       "844     Official Kartika Sari            Bandung   500+ terjual            5.0  \n",
       "845                Cairo Food      Jakarta Pusat     29 terjual            5.0  \n",
       "846       Toko kue Sumber Mas      Jakarta Timur   250+ terjual            4.9  \n",
       "847         The Little Snacks  Tangerang Selatan   500+ terjual            4.9  \n",
       "848      Rasa Juara Indonesia       Kab. Bandung   1rb+ terjual            4.9  \n",
       "\n",
       "[849 rows x 6 columns]"
      ]
     },
     "execution_count": 4,
     "metadata": {},
     "output_type": "execute_result"
    }
   ],
   "source": [
    "# Seblak product data on the Tokopedia website.\n",
    "tokped"
   ]
  },
  {
   "cell_type": "markdown",
   "metadata": {},
   "source": [
    "Table related to seblak product data on the Tokopedia website. The table contains product names, prices, sellers, store locations, number of items sold, and product ratings. The obtained data consists of 849 rows. The data has not been cleaned yet, so it is raw data that needs to be cleaned."
   ]
  },
  {
   "cell_type": "code",
   "execution_count": 5,
   "metadata": {},
   "outputs": [
    {
     "data": {
      "text/html": [
       "<div>\n",
       "<style scoped>\n",
       "    .dataframe tbody tr th:only-of-type {\n",
       "        vertical-align: middle;\n",
       "    }\n",
       "\n",
       "    .dataframe tbody tr th {\n",
       "        vertical-align: top;\n",
       "    }\n",
       "\n",
       "    .dataframe thead th {\n",
       "        text-align: right;\n",
       "    }\n",
       "</style>\n",
       "<table border=\"1\" class=\"dataframe\">\n",
       "  <thead>\n",
       "    <tr style=\"text-align: right;\">\n",
       "      <th></th>\n",
       "      <th>nama_produk</th>\n",
       "      <th>harga_produk</th>\n",
       "      <th>penjual</th>\n",
       "      <th>lokasi_toko</th>\n",
       "      <th>jumlah_terjual</th>\n",
       "      <th>rating_produk</th>\n",
       "    </tr>\n",
       "  </thead>\n",
       "  <tbody>\n",
       "    <tr>\n",
       "      <th>0</th>\n",
       "      <td>Gelifood Seblak Instan Kerupuk Mawar Bumbu Ken...</td>\n",
       "      <td>Rp13.000</td>\n",
       "      <td>Lidigeli</td>\n",
       "      <td>Kab. Garut</td>\n",
       "      <td>250+ terjual</td>\n",
       "      <td>4.8</td>\n",
       "    </tr>\n",
       "    <tr>\n",
       "      <th>1</th>\n",
       "      <td>Kylafood Seblak Original Play</td>\n",
       "      <td>Rp15.050</td>\n",
       "      <td>kylafood</td>\n",
       "      <td>Bandung</td>\n",
       "      <td>1rb+ terjual</td>\n",
       "      <td>5.0</td>\n",
       "    </tr>\n",
       "    <tr>\n",
       "      <th>2</th>\n",
       "      <td>Seblak Rafael, Seblak Coet Instan Halal</td>\n",
       "      <td>Rp25.000</td>\n",
       "      <td>Brother Meat Shop</td>\n",
       "      <td>Depok</td>\n",
       "      <td>100+ terjual</td>\n",
       "      <td>4.9</td>\n",
       "    </tr>\n",
       "    <tr>\n",
       "      <th>3</th>\n",
       "      <td>Seblak Instan Ceu Nthien Khas Bandung Rasana N...</td>\n",
       "      <td>Rp17.000</td>\n",
       "      <td>Central Seblak Nusantara</td>\n",
       "      <td>Tangerang Selatan</td>\n",
       "      <td>2rb+ terjual</td>\n",
       "      <td>4.9</td>\n",
       "    </tr>\n",
       "    <tr>\n",
       "      <th>4</th>\n",
       "      <td>KERUPUK SEBLAK MENTAH ANEKA WARNA</td>\n",
       "      <td>Rp11.500</td>\n",
       "      <td>jajanangarut19</td>\n",
       "      <td>Jakarta Selatan</td>\n",
       "      <td>250+ terjual</td>\n",
       "      <td>4.9</td>\n",
       "    </tr>\n",
       "  </tbody>\n",
       "</table>\n",
       "</div>"
      ],
      "text/plain": [
       "                                         nama_produk harga_produk  \\\n",
       "0  Gelifood Seblak Instan Kerupuk Mawar Bumbu Ken...     Rp13.000   \n",
       "1                      Kylafood Seblak Original Play     Rp15.050   \n",
       "2            Seblak Rafael, Seblak Coet Instan Halal     Rp25.000   \n",
       "3  Seblak Instan Ceu Nthien Khas Bandung Rasana N...     Rp17.000   \n",
       "4                  KERUPUK SEBLAK MENTAH ANEKA WARNA     Rp11.500   \n",
       "\n",
       "                    penjual        lokasi_toko jumlah_terjual  rating_produk  \n",
       "0                  Lidigeli         Kab. Garut   250+ terjual            4.8  \n",
       "1                  kylafood            Bandung   1rb+ terjual            5.0  \n",
       "2         Brother Meat Shop              Depok   100+ terjual            4.9  \n",
       "3  Central Seblak Nusantara  Tangerang Selatan   2rb+ terjual            4.9  \n",
       "4            jajanangarut19    Jakarta Selatan   250+ terjual            4.9  "
      ]
     },
     "execution_count": 5,
     "metadata": {},
     "output_type": "execute_result"
    }
   ],
   "source": [
    "#syntax to display the top 5 data\n",
    "tokped.head()"
   ]
  },
  {
   "cell_type": "markdown",
   "metadata": {},
   "source": [
    "The following are the top 5 data from the seblak product table on Tokopedia."
   ]
  },
  {
   "cell_type": "code",
   "execution_count": 6,
   "metadata": {},
   "outputs": [
    {
     "data": {
      "text/html": [
       "<div>\n",
       "<style scoped>\n",
       "    .dataframe tbody tr th:only-of-type {\n",
       "        vertical-align: middle;\n",
       "    }\n",
       "\n",
       "    .dataframe tbody tr th {\n",
       "        vertical-align: top;\n",
       "    }\n",
       "\n",
       "    .dataframe thead th {\n",
       "        text-align: right;\n",
       "    }\n",
       "</style>\n",
       "<table border=\"1\" class=\"dataframe\">\n",
       "  <thead>\n",
       "    <tr style=\"text-align: right;\">\n",
       "      <th></th>\n",
       "      <th>nama_produk</th>\n",
       "      <th>harga_produk</th>\n",
       "      <th>penjual</th>\n",
       "      <th>lokasi_toko</th>\n",
       "      <th>jumlah_terjual</th>\n",
       "      <th>rating_produk</th>\n",
       "    </tr>\n",
       "  </thead>\n",
       "  <tbody>\n",
       "    <tr>\n",
       "      <th>844</th>\n",
       "      <td>Seblak Instan Sehati</td>\n",
       "      <td>Rp13.000</td>\n",
       "      <td>Official Kartika Sari</td>\n",
       "      <td>Bandung</td>\n",
       "      <td>500+ terjual</td>\n",
       "      <td>5.0</td>\n",
       "    </tr>\n",
       "    <tr>\n",
       "      <th>845</th>\n",
       "      <td>Bumbu Seblak - Cairo Food</td>\n",
       "      <td>Rp25.500</td>\n",
       "      <td>Cairo Food</td>\n",
       "      <td>Jakarta Pusat</td>\n",
       "      <td>29 terjual</td>\n",
       "      <td>5.0</td>\n",
       "    </tr>\n",
       "    <tr>\n",
       "      <th>846</th>\n",
       "      <td>KERUPUK/KRUPUK SEBLAK RASA PEDAS TERLARIS ISI ...</td>\n",
       "      <td>Rp16.695</td>\n",
       "      <td>Toko kue Sumber Mas</td>\n",
       "      <td>Jakarta Timur</td>\n",
       "      <td>250+ terjual</td>\n",
       "      <td>4.9</td>\n",
       "    </tr>\n",
       "    <tr>\n",
       "      <th>847</th>\n",
       "      <td>Seblak Merah Pedas / Kerupuk Bawang Oleh Oleh ...</td>\n",
       "      <td>Rp9.000</td>\n",
       "      <td>The Little Snacks</td>\n",
       "      <td>Tangerang Selatan</td>\n",
       "      <td>500+ terjual</td>\n",
       "      <td>4.9</td>\n",
       "    </tr>\n",
       "    <tr>\n",
       "      <th>848</th>\n",
       "      <td>SEBLAK JUARA INSTAN MASAK BASAH ASLI BANDUNG E...</td>\n",
       "      <td>Rp22.000</td>\n",
       "      <td>Rasa Juara Indonesia</td>\n",
       "      <td>Kab. Bandung</td>\n",
       "      <td>1rb+ terjual</td>\n",
       "      <td>4.9</td>\n",
       "    </tr>\n",
       "  </tbody>\n",
       "</table>\n",
       "</div>"
      ],
      "text/plain": [
       "                                           nama_produk harga_produk  \\\n",
       "844                               Seblak Instan Sehati     Rp13.000   \n",
       "845                          Bumbu Seblak - Cairo Food     Rp25.500   \n",
       "846  KERUPUK/KRUPUK SEBLAK RASA PEDAS TERLARIS ISI ...     Rp16.695   \n",
       "847  Seblak Merah Pedas / Kerupuk Bawang Oleh Oleh ...      Rp9.000   \n",
       "848  SEBLAK JUARA INSTAN MASAK BASAH ASLI BANDUNG E...     Rp22.000   \n",
       "\n",
       "                   penjual        lokasi_toko jumlah_terjual  rating_produk  \n",
       "844  Official Kartika Sari            Bandung   500+ terjual            5.0  \n",
       "845             Cairo Food      Jakarta Pusat     29 terjual            5.0  \n",
       "846    Toko kue Sumber Mas      Jakarta Timur   250+ terjual            4.9  \n",
       "847      The Little Snacks  Tangerang Selatan   500+ terjual            4.9  \n",
       "848   Rasa Juara Indonesia       Kab. Bandung   1rb+ terjual            4.9  "
      ]
     },
     "execution_count": 6,
     "metadata": {},
     "output_type": "execute_result"
    }
   ],
   "source": [
    "#syntax to display the bottom 5 data\n",
    "tokped.tail()\n"
   ]
  },
  {
   "cell_type": "markdown",
   "metadata": {},
   "source": [
    "The following are the bottom 5 data from the seblak product table on Tokopedia."
   ]
  },
  {
   "cell_type": "code",
   "execution_count": 7,
   "metadata": {},
   "outputs": [
    {
     "data": {
      "text/plain": [
       "Index(['nama_produk', 'harga_produk', 'penjual', 'lokasi_toko',\n",
       "       'jumlah_terjual', 'rating_produk'],\n",
       "      dtype='object')"
      ]
     },
     "execution_count": 7,
     "metadata": {},
     "output_type": "execute_result"
    }
   ],
   "source": [
    "# syntax to display the name\n",
    "tokped.columns"
   ]
  },
  {
   "cell_type": "markdown",
   "metadata": {},
   "source": [
    "The table has columns for product name, product price, seller name, shop location, number of products sold, and product rating on the Tokopedia website."
   ]
  },
  {
   "cell_type": "code",
   "execution_count": 8,
   "metadata": {},
   "outputs": [
    {
     "data": {
      "text/plain": [
       "array(['Kab. Garut', 'Bandung', 'Depok', 'Tangerang Selatan',\n",
       "       'Jakarta Selatan', 'Jakarta Timur', 'Kab. Bogor', 'Jakarta Barat',\n",
       "       'Kab. Boyolali', 'Jakarta Pusat', 'Bekasi', 'Kab. Tangerang',\n",
       "       'Jakarta Utara', 'Kab. Indramayu', 'Surabaya', 'Kab. Bekasi',\n",
       "       'Kab. Bandung', 'Medan', 'Kab.Ciamis', 'Cimahi', 'Surakarta',\n",
       "       'Tangerang', 'Tasikmalaya', 'Palembang', 'Kab. Tasikmalaya',\n",
       "       'Semarang', 'Kab. Sukabumi', 'Banjarbaru', 'Kab. Majalengka',\n",
       "       'Makassar', 'Kab. Bandung Barat', 'Bogor', 'Kab. Sidoarjo',\n",
       "       'Malang', 'Kab. Mojokerto', 'Kab. Banyuwangi', 'Kab. Malang',\n",
       "       'Kab. Brebes', 'Kab. Gresik', 'Kab. Batang', 'Kab. Purwakarta',\n",
       "       'Kab. Kebumen', 'Kab. Sleman', 'Kab. Karawang', 'Pekanbaru',\n",
       "       'Sukabumi'], dtype=object)"
      ]
     },
     "execution_count": 8,
     "metadata": {},
     "output_type": "execute_result"
    }
   ],
   "source": [
    "#syntax to display the city location of shops that sell seblak on Tokopedia.\n",
    "tokped.lokasi_toko.unique()"
   ]
  },
  {
   "cell_type": "markdown",
   "metadata": {},
   "source": [
    "From the data, it can be observed that seblak sellers on Tokopedia are distributed across various regions."
   ]
  },
  {
   "cell_type": "code",
   "execution_count": 9,
   "metadata": {},
   "outputs": [
    {
     "name": "stdout",
     "output_type": "stream",
     "text": [
      "<class 'pandas.core.frame.DataFrame'>\n",
      "RangeIndex: 849 entries, 0 to 848\n",
      "Data columns (total 6 columns):\n",
      " #   Column          Non-Null Count  Dtype  \n",
      "---  ------          --------------  -----  \n",
      " 0   nama_produk     849 non-null    object \n",
      " 1   harga_produk    849 non-null    object \n",
      " 2   penjual         849 non-null    object \n",
      " 3   lokasi_toko     849 non-null    object \n",
      " 4   jumlah_terjual  816 non-null    object \n",
      " 5   rating_produk   791 non-null    float64\n",
      "dtypes: float64(1), object(5)\n",
      "memory usage: 39.9+ KB\n"
     ]
    }
   ],
   "source": [
    "# syntax to display a summary of the data obtained.\n",
    "tokped.info()"
   ]
  },
  {
   "cell_type": "markdown",
   "metadata": {},
   "source": [
    "The .info() syntax provides insights into the table's data. It reveals that the table contains 849 rows of data, with missing values present in some columns (store location and product rating). Additionally, the data types in the table are not appropriate for the type of data contained in each column, such as the price of the product and the quantity sold. To address these issues, data cleaning is necessary to ensure the data is properly formatted."
   ]
  },
  {
   "cell_type": "markdown",
   "metadata": {},
   "source": [
    "### Data Cleaning"
   ]
  },
  {
   "cell_type": "code",
   "execution_count": 10,
   "metadata": {},
   "outputs": [],
   "source": [
    "# Syntax to change symbols that are not used in values\n",
    "tokped['harga_produk'].replace('Rp','', regex=True, inplace=True)\n",
    "tokped['harga_produk'].replace('\\.','', regex=True, inplace=True)\n",
    "tokped['jumlah_terjual'].replace('\\+ terjual','', regex=True, inplace=True)\n",
    "tokped['jumlah_terjual'].replace('terjual','', regex=True, inplace=True)\n",
    "tokped['jumlah_terjual'].replace('rb',\"000\", regex=True, inplace=True)\n",
    "\n"
   ]
  },
  {
   "cell_type": "markdown",
   "metadata": {},
   "source": [
    "Symbols must be cleaned because they will interfere with the analysis process because python cannot read symbols such as (.) or (rb) or (Rp) so they are cleaned. The only data needed is the numbers."
   ]
  },
  {
   "cell_type": "code",
   "execution_count": 11,
   "metadata": {},
   "outputs": [],
   "source": [
    "#syntax to remove null/non data\n",
    "tokped = tokped.dropna()"
   ]
  },
  {
   "cell_type": "code",
   "execution_count": 12,
   "metadata": {},
   "outputs": [
    {
     "name": "stderr",
     "output_type": "stream",
     "text": [
      "C:\\Users\\D5att\\AppData\\Local\\Temp\\ipykernel_2644\\245751113.py:3: SettingWithCopyWarning: \n",
      "A value is trying to be set on a copy of a slice from a DataFrame.\n",
      "Try using .loc[row_indexer,col_indexer] = value instead\n",
      "\n",
      "See the caveats in the documentation: https://pandas.pydata.org/pandas-docs/stable/user_guide/indexing.html#returning-a-view-versus-a-copy\n",
      "  tokped.harga_produk = tokped.harga_produk.astype('int64')\n",
      "C:\\Users\\D5att\\AppData\\Local\\Temp\\ipykernel_2644\\245751113.py:4: SettingWithCopyWarning: \n",
      "A value is trying to be set on a copy of a slice from a DataFrame.\n",
      "Try using .loc[row_indexer,col_indexer] = value instead\n",
      "\n",
      "See the caveats in the documentation: https://pandas.pydata.org/pandas-docs/stable/user_guide/indexing.html#returning-a-view-versus-a-copy\n",
      "  tokped.jumlah_terjual = tokped.jumlah_terjual.astype('int64')\n"
     ]
    }
   ],
   "source": [
    "#syntax to change the datatype of a column to match its value. like\n",
    "#columns for product price and number of products sold are integers.\n",
    "tokped.harga_produk = tokped.harga_produk.astype('int64')\n",
    "tokped.jumlah_terjual = tokped.jumlah_terjual.astype('int64')"
   ]
  },
  {
   "cell_type": "code",
   "execution_count": 13,
   "metadata": {},
   "outputs": [],
   "source": [
    "# syntax to clean duplicate data from each column.\n",
    "#This syntax will delete rows that exactly match other rows.\n",
    "tokped = tokped.drop_duplicates()"
   ]
  },
  {
   "cell_type": "code",
   "execution_count": 14,
   "metadata": {},
   "outputs": [
    {
     "name": "stdout",
     "output_type": "stream",
     "text": [
      "<class 'pandas.core.frame.DataFrame'>\n",
      "Index: 658 entries, 0 to 848\n",
      "Data columns (total 6 columns):\n",
      " #   Column          Non-Null Count  Dtype  \n",
      "---  ------          --------------  -----  \n",
      " 0   nama_produk     658 non-null    object \n",
      " 1   harga_produk    658 non-null    int64  \n",
      " 2   penjual         658 non-null    object \n",
      " 3   lokasi_toko     658 non-null    object \n",
      " 4   jumlah_terjual  658 non-null    int64  \n",
      " 5   rating_produk   658 non-null    float64\n",
      "dtypes: float64(1), int64(2), object(3)\n",
      "memory usage: 36.0+ KB\n"
     ]
    }
   ],
   "source": [
    "tokped.info()"
   ]
  },
  {
   "cell_type": "markdown",
   "metadata": {},
   "source": [
    "From this data, the data type for the quantity sold and product price columns has changed to integer."
   ]
  },
  {
   "cell_type": "code",
   "execution_count": 15,
   "metadata": {},
   "outputs": [
    {
     "data": {
      "text/plain": [
       "nama_produk       False\n",
       "harga_produk      False\n",
       "penjual           False\n",
       "lokasi_toko       False\n",
       "jumlah_terjual    False\n",
       "rating_produk     False\n",
       "dtype: bool"
      ]
     },
     "execution_count": 15,
     "metadata": {},
     "output_type": "execute_result"
    }
   ],
   "source": [
    "#syntax to display whether there is null data\n",
    "tokped.isnull().any()"
   ]
  },
  {
   "cell_type": "markdown",
   "metadata": {},
   "source": [
    "These results explain that in the entire table there are no false/null values. so that the data already has the appropriate value."
   ]
  },
  {
   "cell_type": "code",
   "execution_count": 16,
   "metadata": {},
   "outputs": [
    {
     "data": {
      "text/html": [
       "<div>\n",
       "<style scoped>\n",
       "    .dataframe tbody tr th:only-of-type {\n",
       "        vertical-align: middle;\n",
       "    }\n",
       "\n",
       "    .dataframe tbody tr th {\n",
       "        vertical-align: top;\n",
       "    }\n",
       "\n",
       "    .dataframe thead th {\n",
       "        text-align: right;\n",
       "    }\n",
       "</style>\n",
       "<table border=\"1\" class=\"dataframe\">\n",
       "  <thead>\n",
       "    <tr style=\"text-align: right;\">\n",
       "      <th></th>\n",
       "      <th>harga_produk</th>\n",
       "    </tr>\n",
       "  </thead>\n",
       "  <tbody>\n",
       "    <tr>\n",
       "      <th>0</th>\n",
       "      <td>13000</td>\n",
       "    </tr>\n",
       "    <tr>\n",
       "      <th>1</th>\n",
       "      <td>15050</td>\n",
       "    </tr>\n",
       "    <tr>\n",
       "      <th>2</th>\n",
       "      <td>25000</td>\n",
       "    </tr>\n",
       "    <tr>\n",
       "      <th>3</th>\n",
       "      <td>17000</td>\n",
       "    </tr>\n",
       "    <tr>\n",
       "      <th>4</th>\n",
       "      <td>11500</td>\n",
       "    </tr>\n",
       "    <tr>\n",
       "      <th>...</th>\n",
       "      <td>...</td>\n",
       "    </tr>\n",
       "    <tr>\n",
       "      <th>840</th>\n",
       "      <td>2881</td>\n",
       "    </tr>\n",
       "    <tr>\n",
       "      <th>841</th>\n",
       "      <td>13000</td>\n",
       "    </tr>\n",
       "    <tr>\n",
       "      <th>842</th>\n",
       "      <td>12500</td>\n",
       "    </tr>\n",
       "    <tr>\n",
       "      <th>843</th>\n",
       "      <td>16500</td>\n",
       "    </tr>\n",
       "    <tr>\n",
       "      <th>848</th>\n",
       "      <td>22000</td>\n",
       "    </tr>\n",
       "  </tbody>\n",
       "</table>\n",
       "<p>658 rows × 1 columns</p>\n",
       "</div>"
      ],
      "text/plain": [
       "     harga_produk\n",
       "0           13000\n",
       "1           15050\n",
       "2           25000\n",
       "3           17000\n",
       "4           11500\n",
       "..            ...\n",
       "840          2881\n",
       "841         13000\n",
       "842         12500\n",
       "843         16500\n",
       "848         22000\n",
       "\n",
       "[658 rows x 1 columns]"
      ]
     },
     "execution_count": 16,
     "metadata": {},
     "output_type": "execute_result"
    }
   ],
   "source": [
    "# to display the product_price column\n",
    "tokped[[\"harga_produk\"]]"
   ]
  },
  {
   "cell_type": "markdown",
   "metadata": {},
   "source": [
    "From the data cleaning results, the value in the harga_produk column no longer contains the character (Rp)."
   ]
  },
  {
   "cell_type": "code",
   "execution_count": 17,
   "metadata": {},
   "outputs": [
    {
     "data": {
      "text/html": [
       "<div>\n",
       "<style scoped>\n",
       "    .dataframe tbody tr th:only-of-type {\n",
       "        vertical-align: middle;\n",
       "    }\n",
       "\n",
       "    .dataframe tbody tr th {\n",
       "        vertical-align: top;\n",
       "    }\n",
       "\n",
       "    .dataframe thead th {\n",
       "        text-align: right;\n",
       "    }\n",
       "</style>\n",
       "<table border=\"1\" class=\"dataframe\">\n",
       "  <thead>\n",
       "    <tr style=\"text-align: right;\">\n",
       "      <th></th>\n",
       "      <th>jumlah_terjual</th>\n",
       "    </tr>\n",
       "  </thead>\n",
       "  <tbody>\n",
       "    <tr>\n",
       "      <th>0</th>\n",
       "      <td>250</td>\n",
       "    </tr>\n",
       "    <tr>\n",
       "      <th>1</th>\n",
       "      <td>1000</td>\n",
       "    </tr>\n",
       "    <tr>\n",
       "      <th>2</th>\n",
       "      <td>100</td>\n",
       "    </tr>\n",
       "    <tr>\n",
       "      <th>3</th>\n",
       "      <td>2000</td>\n",
       "    </tr>\n",
       "    <tr>\n",
       "      <th>4</th>\n",
       "      <td>250</td>\n",
       "    </tr>\n",
       "    <tr>\n",
       "      <th>...</th>\n",
       "      <td>...</td>\n",
       "    </tr>\n",
       "    <tr>\n",
       "      <th>840</th>\n",
       "      <td>16</td>\n",
       "    </tr>\n",
       "    <tr>\n",
       "      <th>841</th>\n",
       "      <td>60</td>\n",
       "    </tr>\n",
       "    <tr>\n",
       "      <th>842</th>\n",
       "      <td>50</td>\n",
       "    </tr>\n",
       "    <tr>\n",
       "      <th>843</th>\n",
       "      <td>5</td>\n",
       "    </tr>\n",
       "    <tr>\n",
       "      <th>848</th>\n",
       "      <td>1000</td>\n",
       "    </tr>\n",
       "  </tbody>\n",
       "</table>\n",
       "<p>658 rows × 1 columns</p>\n",
       "</div>"
      ],
      "text/plain": [
       "     jumlah_terjual\n",
       "0               250\n",
       "1              1000\n",
       "2               100\n",
       "3              2000\n",
       "4               250\n",
       "..              ...\n",
       "840              16\n",
       "841              60\n",
       "842              50\n",
       "843               5\n",
       "848            1000\n",
       "\n",
       "[658 rows x 1 columns]"
      ]
     },
     "execution_count": 17,
     "metadata": {},
     "output_type": "execute_result"
    }
   ],
   "source": [
    "tokped[[\"jumlah_terjual\"]]\n"
   ]
  },
  {
   "cell_type": "markdown",
   "metadata": {},
   "source": [
    "From the data cleaning results, the value in the jumlah_terjual column no longer contains the symbol (+) and the word \"sold\""
   ]
  },
  {
   "cell_type": "code",
   "execution_count": 32,
   "metadata": {},
   "outputs": [
    {
     "data": {
      "text/html": [
       "<div>\n",
       "<style scoped>\n",
       "    .dataframe tbody tr th:only-of-type {\n",
       "        vertical-align: middle;\n",
       "    }\n",
       "\n",
       "    .dataframe tbody tr th {\n",
       "        vertical-align: top;\n",
       "    }\n",
       "\n",
       "    .dataframe thead th {\n",
       "        text-align: right;\n",
       "    }\n",
       "</style>\n",
       "<table border=\"1\" class=\"dataframe\">\n",
       "  <thead>\n",
       "    <tr style=\"text-align: right;\">\n",
       "      <th></th>\n",
       "      <th>nama_produk</th>\n",
       "      <th>harga_produk</th>\n",
       "      <th>penjual</th>\n",
       "      <th>lokasi_toko</th>\n",
       "      <th>jumlah_terjual</th>\n",
       "      <th>rating_produk</th>\n",
       "      <th>jab</th>\n",
       "      <th>non</th>\n",
       "    </tr>\n",
       "  </thead>\n",
       "  <tbody>\n",
       "    <tr>\n",
       "      <th>0</th>\n",
       "      <td>Gelifood Seblak Instan Kerupuk Mawar Bumbu Ken...</td>\n",
       "      <td>13000</td>\n",
       "      <td>Lidigeli</td>\n",
       "      <td>Kab. Garut</td>\n",
       "      <td>250</td>\n",
       "      <td>4.8</td>\n",
       "      <td>0</td>\n",
       "      <td>1</td>\n",
       "    </tr>\n",
       "    <tr>\n",
       "      <th>1</th>\n",
       "      <td>Kylafood Seblak Original Play</td>\n",
       "      <td>15050</td>\n",
       "      <td>kylafood</td>\n",
       "      <td>Bandung</td>\n",
       "      <td>1000</td>\n",
       "      <td>5.0</td>\n",
       "      <td>0</td>\n",
       "      <td>1</td>\n",
       "    </tr>\n",
       "    <tr>\n",
       "      <th>2</th>\n",
       "      <td>Seblak Rafael, Seblak Coet Instan Halal</td>\n",
       "      <td>25000</td>\n",
       "      <td>Brother Meat Shop</td>\n",
       "      <td>Depok</td>\n",
       "      <td>100</td>\n",
       "      <td>4.9</td>\n",
       "      <td>1</td>\n",
       "      <td>0</td>\n",
       "    </tr>\n",
       "    <tr>\n",
       "      <th>3</th>\n",
       "      <td>Seblak Instan Ceu Nthien Khas Bandung Rasana N...</td>\n",
       "      <td>17000</td>\n",
       "      <td>Central Seblak Nusantara</td>\n",
       "      <td>Tangerang Selatan</td>\n",
       "      <td>2000</td>\n",
       "      <td>4.9</td>\n",
       "      <td>0</td>\n",
       "      <td>1</td>\n",
       "    </tr>\n",
       "    <tr>\n",
       "      <th>4</th>\n",
       "      <td>KERUPUK SEBLAK MENTAH ANEKA WARNA</td>\n",
       "      <td>11500</td>\n",
       "      <td>jajanangarut19</td>\n",
       "      <td>Jakarta Selatan</td>\n",
       "      <td>250</td>\n",
       "      <td>4.9</td>\n",
       "      <td>1</td>\n",
       "      <td>0</td>\n",
       "    </tr>\n",
       "    <tr>\n",
       "      <th>...</th>\n",
       "      <td>...</td>\n",
       "      <td>...</td>\n",
       "      <td>...</td>\n",
       "      <td>...</td>\n",
       "      <td>...</td>\n",
       "      <td>...</td>\n",
       "      <td>...</td>\n",
       "      <td>...</td>\n",
       "    </tr>\n",
       "    <tr>\n",
       "      <th>840</th>\n",
       "      <td>Kerupuk Seblak Mawar Kriwil Pedas 60gr ANABA</td>\n",
       "      <td>2881</td>\n",
       "      <td>Siaga Lapak</td>\n",
       "      <td>Malang</td>\n",
       "      <td>16</td>\n",
       "      <td>5.0</td>\n",
       "      <td>0</td>\n",
       "      <td>1</td>\n",
       "    </tr>\n",
       "    <tr>\n",
       "      <th>841</th>\n",
       "      <td>Seblak Ceker pedas daun jeruk 250 gram</td>\n",
       "      <td>13000</td>\n",
       "      <td>Markas Makaroni</td>\n",
       "      <td>Kab. Bekasi</td>\n",
       "      <td>60</td>\n",
       "      <td>4.9</td>\n",
       "      <td>1</td>\n",
       "      <td>0</td>\n",
       "    </tr>\n",
       "    <tr>\n",
       "      <th>842</th>\n",
       "      <td>CAMILAN SEBLAK PEDAS 250GR SNACK KILOAN JAJAN ...</td>\n",
       "      <td>12500</td>\n",
       "      <td>FARZHA SNACK STORE</td>\n",
       "      <td>Semarang</td>\n",
       "      <td>50</td>\n",
       "      <td>4.6</td>\n",
       "      <td>0</td>\n",
       "      <td>1</td>\n",
       "    </tr>\n",
       "    <tr>\n",
       "      <th>843</th>\n",
       "      <td>keripik seblak rafael pedas &amp; asin</td>\n",
       "      <td>16500</td>\n",
       "      <td>keyz shop78</td>\n",
       "      <td>Bandung</td>\n",
       "      <td>5</td>\n",
       "      <td>5.0</td>\n",
       "      <td>0</td>\n",
       "      <td>1</td>\n",
       "    </tr>\n",
       "    <tr>\n",
       "      <th>848</th>\n",
       "      <td>SEBLAK JUARA INSTAN MASAK BASAH ASLI BANDUNG E...</td>\n",
       "      <td>22000</td>\n",
       "      <td>Rasa Juara Indonesia</td>\n",
       "      <td>Kab. Bandung</td>\n",
       "      <td>1000</td>\n",
       "      <td>4.9</td>\n",
       "      <td>0</td>\n",
       "      <td>1</td>\n",
       "    </tr>\n",
       "  </tbody>\n",
       "</table>\n",
       "<p>658 rows × 8 columns</p>\n",
       "</div>"
      ],
      "text/plain": [
       "                                           nama_produk  harga_produk  \\\n",
       "0    Gelifood Seblak Instan Kerupuk Mawar Bumbu Ken...         13000   \n",
       "1                        Kylafood Seblak Original Play         15050   \n",
       "2              Seblak Rafael, Seblak Coet Instan Halal         25000   \n",
       "3    Seblak Instan Ceu Nthien Khas Bandung Rasana N...         17000   \n",
       "4                    KERUPUK SEBLAK MENTAH ANEKA WARNA         11500   \n",
       "..                                                 ...           ...   \n",
       "840       Kerupuk Seblak Mawar Kriwil Pedas 60gr ANABA          2881   \n",
       "841             Seblak Ceker pedas daun jeruk 250 gram         13000   \n",
       "842  CAMILAN SEBLAK PEDAS 250GR SNACK KILOAN JAJAN ...         12500   \n",
       "843                 keripik seblak rafael pedas & asin         16500   \n",
       "848  SEBLAK JUARA INSTAN MASAK BASAH ASLI BANDUNG E...         22000   \n",
       "\n",
       "                      penjual        lokasi_toko  jumlah_terjual  \\\n",
       "0                    Lidigeli         Kab. Garut             250   \n",
       "1                    kylafood            Bandung            1000   \n",
       "2           Brother Meat Shop              Depok             100   \n",
       "3    Central Seblak Nusantara  Tangerang Selatan            2000   \n",
       "4              jajanangarut19    Jakarta Selatan             250   \n",
       "..                        ...                ...             ...   \n",
       "840               Siaga Lapak             Malang              16   \n",
       "841           Markas Makaroni        Kab. Bekasi              60   \n",
       "842        FARZHA SNACK STORE           Semarang              50   \n",
       "843               keyz shop78            Bandung               5   \n",
       "848      Rasa Juara Indonesia       Kab. Bandung            1000   \n",
       "\n",
       "     rating_produk  jab  non  \n",
       "0              4.8    0    1  \n",
       "1              5.0    0    1  \n",
       "2              4.9    1    0  \n",
       "3              4.9    0    1  \n",
       "4              4.9    1    0  \n",
       "..             ...  ...  ...  \n",
       "840            5.0    0    1  \n",
       "841            4.9    1    0  \n",
       "842            4.6    0    1  \n",
       "843            5.0    0    1  \n",
       "848            4.9    0    1  \n",
       "\n",
       "[658 rows x 8 columns]"
      ]
     },
     "execution_count": 32,
     "metadata": {},
     "output_type": "execute_result"
    }
   ],
   "source": [
    "tokped"
   ]
  },
  {
   "cell_type": "markdown",
   "metadata": {},
   "source": [
    "The data that has been cleaned is ready to be analyzed."
   ]
  },
  {
   "cell_type": "markdown",
   "metadata": {},
   "source": [
    "## __SMART Framework__"
   ]
  },
  {
   "cell_type": "markdown",
   "metadata": {},
   "source": [
    "Creating a SMART Framework for the requested case of becoming a dropshipper for seblak on the Tokopedia platform, leveraging a background in data science."
   ]
  },
  {
   "cell_type": "markdown",
   "metadata": {},
   "source": [
    "======================\n",
    "\n",
    "__SMART__\n",
    "\n",
    "- __Specific__: To generate profit from dropshipping seblak products through the Tokopedia platform.\n",
    "- __Measurable__: Achieve a profit margin of 10% from each sale.\n",
    "- __Achievable__: Analyze seblak product data from Tokopedia, including product prices, main seller locations, and ratings. Determine the product selection and selling prices.\n",
    "- __Relevant__: Gain insights into the market to leverage for product promotion.\n",
    "- __Time-based__: Achieve results within the next month.\n",
    "\n",
    "======================"
   ]
  },
  {
   "cell_type": "markdown",
   "metadata": {},
   "source": [
    "To become a successful seblak dropshipper by earning a 10% commission from each sale, conducting market analysis through the Tokopedia platform, and achieving results within the next month."
   ]
  },
  {
   "cell_type": "markdown",
   "metadata": {},
   "source": [
    "## __Analysis__"
   ]
  },
  {
   "cell_type": "markdown",
   "metadata": {},
   "source": [
    "Performing analysis on the table of seblak product data on Tokopedia:\n",
    "\n",
    "1. Calculate the mean, median, standard deviation, skewness, and kurtosis for the columns: product price, number of products sold, and product rating.\n",
    "2. Calculate confidence intervals to determine the minimum and maximum potential revenue when selling seblak products.\n",
    "3. Conduct hypothesis testing regarding the product prices in Jabodetabek and non-Jabodetabek areas. Is there a difference in pricing based on the seller's location?\n",
    "4. Analyze the correlation to determine if buyers prefer cheaper products."
   ]
  },
  {
   "cell_type": "markdown",
   "metadata": {},
   "source": [
    "### 1. Calculate the average, median, standard deviation, skewness, and kurtosis in the product price, number of products sold, and product rating columns."
   ]
  },
  {
   "cell_type": "code",
   "execution_count": 19,
   "metadata": {},
   "outputs": [
    {
     "name": "stdout",
     "output_type": "stream",
     "text": [
      "Rata-rata harga dari produk seblak adalah 22583.281155015196\n",
      "Nilai median harga dari produk seblak adalah 15000.0\n",
      "Standar deviasi harga dari produk seblak adalah 24986.786719538606\n",
      "Nilai skewness harga dari produk seblak adalah 3.407909618686799\n",
      "Nilai kurtosis harga dari produk seblak adalah 15.792949123435596\n"
     ]
    }
   ],
   "source": [
    "#Displays the average, median, standard deviation, skewness and kurtosis values in the product price column.\n",
    "rata2_harga = tokped.harga_produk.mean()\n",
    "tengah_harga = tokped.harga_produk.median(axis=0)\n",
    "std_harga = tokped.harga_produk.std()\n",
    "skew_harga = tokped.harga_produk.skew()\n",
    "kurt_harga = tokped.harga_produk.kurt()\n",
    "\n",
    "print(f'Rata-rata harga dari produk seblak adalah {rata2_harga}')\n",
    "print(f'Nilai median harga dari produk seblak adalah {tengah_harga}')\n",
    "print(f'Standar deviasi harga dari produk seblak adalah {std_harga}')\n",
    "print(f'Nilai skewness harga dari produk seblak adalah {skew_harga}')\n",
    "print(f'Nilai kurtosis harga dari produk seblak adalah {kurt_harga}')"
   ]
  },
  {
   "cell_type": "markdown",
   "metadata": {},
   "source": [
    "__Explanation of Product Price Data__\n",
    "\n",
    "Based on the data in the product price column, the mean is 22583.281155015196, the median is 15000.0, the standard deviation is 24986.786719538606, the skewness value is 3.407909618686799, and the kurtosis value is 15.792949123435596. From these figures, it can be inferred that the mean is greater than the median, indicating a __left-skewed or positively skewed distribution__. The high standard deviation compared to the mean also indicates that the __data varies significantly__. A skewness value higher than 1 also indicates that the data is __strongly__ left-skewed. A kurtosis value above 0 also indicates that the data is __leptokurtic__, indicating many outliers/extreme data points.\n",
    "\n",
    "It can be inferred that many seblak products are sold at low prices around Rp15000 (approximately the median price). The mean value is influenced by outliers/prices that are higher than the majority of products. The prices offered by sellers also vary significantly."
   ]
  },
  {
   "cell_type": "code",
   "execution_count": 20,
   "metadata": {},
   "outputs": [
    {
     "name": "stdout",
     "output_type": "stream",
     "text": [
      "Rata-rata jumlah produk seblak terjual adalah 362.41185410334344\n",
      "Nilai median jumlah produk seblak terjual adalah 75.0\n",
      "Standar deviasi jumlah produk seblak terjual adalah 1089.5167469286384\n",
      "Nilai skewness jumlah produk seblak terjual adalah 6.357000334654058\n",
      "Nilai kurtosis jumlah produk seblak terjual adalah 47.401601968584494\n"
     ]
    }
   ],
   "source": [
    "# Displays the average, median, standard deviation, skewness and kurtosis values in the number of products sold column\n",
    "rata2_terjual = tokped.jumlah_terjual.mean()\n",
    "tengah_terjual = tokped.jumlah_terjual.median(axis=0)\n",
    "std_terjual = tokped.jumlah_terjual.std()\n",
    "skew_terjual = tokped.jumlah_terjual.skew()\n",
    "kurt_terjual = tokped.jumlah_terjual.kurt()\n",
    "\n",
    "print(f'Rata-rata jumlah produk seblak terjual adalah {rata2_terjual}')\n",
    "print(f'Nilai median jumlah produk seblak terjual adalah {tengah_terjual}')\n",
    "print(f'Standar deviasi jumlah produk seblak terjual adalah {std_terjual}')\n",
    "print(f'Nilai skewness jumlah produk seblak terjual adalah {skew_terjual}')\n",
    "print(f'Nilai kurtosis jumlah produk seblak terjual adalah {kurt_terjual}')"
   ]
  },
  {
   "cell_type": "markdown",
   "metadata": {},
   "source": [
    "__Explanation of Sold Product Data__\n",
    "\n",
    "Based on the data in the column of sold product quantity, the mean is 362.41185410334344, the median is 75.0, and the standard deviation is 1089.5167469286384. It can be inferred that the mean value greater than the median suggests a __left-skewed or positively skewed distribution__. The high standard deviation, which is also higher than the mean, indicates that the __data varies significantly__. A high skewness value suggests that the data is __strongly__ skewed. A kurtosis value above 0 also indicates that the data is __leptokurtic__, suggesting many outliers/extreme data points.\n",
    "\n",
    "Based on this explanation, most products are sold in quantities around 75 pieces (approximately the median value). The mean value is influenced by outliers from products that have been sold in quantities far exceeding the majority of seblak products on Tokopedia. The quantity of sold items for each product varies significantly."
   ]
  },
  {
   "cell_type": "code",
   "execution_count": 21,
   "metadata": {},
   "outputs": [
    {
     "name": "stdout",
     "output_type": "stream",
     "text": [
      "Rata-rata rating produk seblak adalah 4.87127659574468\n",
      "Nilai median rating produk seblak adalah 4.9\n",
      "Standar deviasi rating produk seblak adalah 0.20124092824718232\n",
      "Nilai skewness rating produk seblak adalah -5.951229714629269\n",
      "Nilai kurtosis rating produk seblak adalah 66.91180332035384\n"
     ]
    }
   ],
   "source": [
    "#Displays the average, median, standard deviation, skewness and kurtosis values in the product rating column.\n",
    "rata2_rating = tokped.rating_produk.mean()\n",
    "tengah_rating = tokped.rating_produk.median(axis=0)\n",
    "std_rating = tokped.rating_produk.std()\n",
    "skew_rating = tokped.rating_produk.skew()\n",
    "kurt_rating = tokped.rating_produk.kurt()\n",
    "\n",
    "print(f'Rata-rata rating produk seblak adalah {rata2_rating}')\n",
    "print(f'Nilai median rating produk seblak adalah {tengah_rating}')\n",
    "print(f'Standar deviasi rating produk seblak adalah {std_rating}')\n",
    "print(f'Nilai skewness rating produk seblak adalah {skew_rating}')\n",
    "print(f'Nilai kurtosis rating produk seblak adalah {kurt_rating}')"
   ]
  },
  {
   "cell_type": "markdown",
   "metadata": {},
   "source": [
    "__Explanation of Product Rating Data__\n",
    "\n",
    "Based on the data in the product rating column, the mean is 4.87127659574468, the median is 4.9, and the standard deviation is 0.20124092824718232, with a skewness value of -5.951229714629269, and a kurtosis value of 66.91180332035384. With the mean value smaller than the median, the rating data is suspected to be __right-skewed or negatively skewed__. The low standard deviation below the mean suggests that the __data is not highly variable__. The skewness value below -1 indicates that the data is __strongly skewed to the right__. A kurtosis value above 0 also suggests that the data is __leptokurtic__, indicating many outliers/extreme data points. Although the difference between the mean and median is minimal (a normal distribution if the mean and median are equal), the high skewness and kurtosis values suggest otherwise.\n",
    "\n",
    "Based on this explanation, most products receive a rating of 4.9 (based on the median value). The lower mean compared to the median, unlike other data, is due to many outliers/very low rating values that affect the mean. However, the data's distribution is not highly variable due to the low standard deviation."
   ]
  },
  {
   "cell_type": "markdown",
   "metadata": {},
   "source": [
    "### 2. Calculate the confidence interval to get the minimum and maximum potential income if you sell seblak products?"
   ]
  },
  {
   "cell_type": "markdown",
   "metadata": {},
   "source": [
    "I will calculate the maximum and minimum earnings I can obtain from each purchase and my profit within 1 month. (The profit I take from each transaction is 10% of the product price.)"
   ]
  },
  {
   "cell_type": "markdown",
   "metadata": {},
   "source": [
    "__For Your Information__\n",
    "\n",
    "The confidence interval consists of a lower limit and an upper limit. The lower limit is the lowest value within the 95% overall data average, and conversely, the upper limit is the highest value within the 95% overall data average."
   ]
  },
  {
   "cell_type": "code",
   "execution_count": 22,
   "metadata": {},
   "outputs": [
    {
     "name": "stdout",
     "output_type": "stream",
     "text": [
      "Lower Limit: 20674.106967311465\n",
      "Upper Limit: 24492.455342718928\n"
     ]
    }
   ],
   "source": [
    "#To get the confidence interval of the product price.\n",
    "harga = tokped['harga_produk']\n",
    "std = harga.std()\n",
    "N = len(tokped)\n",
    "low, up = stats.norm.interval(0.95,loc=harga.mean(),scale=std/np.sqrt(N))\n",
    "print('Lower Limit:',low)\n",
    "print('Upper Limit:',up)"
   ]
  },
  {
   "cell_type": "markdown",
   "metadata": {},
   "source": [
    "The insight obtained from these values is that from the product price data, 95% of the products have a lowest average price of 20,674.106967311465 and have a highest average price of 24,492.455342718928."
   ]
  },
  {
   "cell_type": "code",
   "execution_count": 23,
   "metadata": {},
   "outputs": [
    {
     "name": "stdout",
     "output_type": "stream",
     "text": [
      "Lower Limit: 279.16476540583744\n",
      "Upper Limit: 445.65894280084945\n"
     ]
    }
   ],
   "source": [
    "#To get the confidence interval of the product price.\n",
    "jumlah = tokped['jumlah_terjual']\n",
    "std = jumlah.std()\n",
    "N = len(tokped)\n",
    "low, up = stats.norm.interval(0.95,loc=jumlah.mean(),scale=std/np.sqrt(N))\n",
    "print('Lower Limit:',low)\n",
    "print('Upper Limit:',up)"
   ]
  },
  {
   "cell_type": "markdown",
   "metadata": {},
   "source": [
    "The insight obtained from this value is from price data on the number of products sold, 95% of products have the lowest average number of selling goods of 279.16476540583744 and have the highest average number of selling goods of 445.65894280084945."
   ]
  },
  {
   "cell_type": "code",
   "execution_count": 24,
   "metadata": {},
   "outputs": [
    {
     "name": "stdout",
     "output_type": "stream",
     "text": [
      "Lower Limit: 4500113.590434211\n",
      "Upper Limit: 7966760.829018676\n"
     ]
    }
   ],
   "source": [
    "#Syntax to get confidence from product seller income (product price*number sold)\n",
    "pemasukan = tokped['harga_produk'] * tokped['jumlah_terjual']\n",
    "std = pemasukan.std()\n",
    "N = len(tokped)\n",
    "low, up = stats.norm.interval(0.95,loc=pemasukan.mean(),scale=std/np.sqrt(N))\n",
    "print('Lower Limit:',low)\n",
    "print('Upper Limit:',up)"
   ]
  },
  {
   "cell_type": "markdown",
   "metadata": {},
   "source": [
    "The insight obtained from this value is that 95% of sellers have the lowest average income of 4500113.590434211 and have the highest average of 7966760.829018676."
   ]
  },
  {
   "cell_type": "code",
   "execution_count": 25,
   "metadata": {},
   "outputs": [
    {
     "name": "stdout",
     "output_type": "stream",
     "text": [
      "Lower Limit: 450011.3590434213\n",
      "Upper Limit: 796676.0829018676\n"
     ]
    }
   ],
   "source": [
    "#Syntax to gain confidence from dropshipper profits with 10% commission\n",
    "pemasukan = tokped['harga_produk'] * tokped['jumlah_terjual'] *0.1\n",
    "std = pemasukan.std()\n",
    "N = len(tokped)\n",
    "low, up = stats.norm.interval(0.95,loc=pemasukan.mean(),scale=std/np.sqrt(N))\n",
    "print('Lower Limit:',low)\n",
    "print('Upper Limit:',up)"
   ]
  },
  {
   "cell_type": "markdown",
   "metadata": {},
   "source": [
    "The insight obtained from these values is that if we, as dropshippers, take a 10% profit from the product price, the lowest average income is 450,011.3590434213 and the highest average income is 796,676.0829018676."
   ]
  },
  {
   "cell_type": "code",
   "execution_count": 26,
   "metadata": {},
   "outputs": [
    {
     "name": "stdout",
     "output_type": "stream",
     "text": [
      "Lower Limit: 4950124.9494776325\n",
      "Upper Limit: 8763436.911920544\n"
     ]
    }
   ],
   "source": [
    "#Syntax to get confidence from gross income\n",
    "pemasukan = tokped['harga_produk'] * tokped['jumlah_terjual'] *1.1\n",
    "std = pemasukan.std()\n",
    "N = len(tokped)\n",
    "low, up = stats.norm.interval(0.95,loc=pemasukan.mean(),scale=std/np.sqrt(N))\n",
    "print('Lower Limit:',low)\n",
    "print('Upper Limit:',up)"
   ]
  },
  {
   "cell_type": "markdown",
   "metadata": {},
   "source": [
    "The insight obtained from these values is that if we, as dropshippers, sell items with a price that already includes a 10% profit, the lowest average gross income is 4,950,124.9494776325 and the highest average gross income is 8,763,436.911920544."
   ]
  },
  {
   "cell_type": "markdown",
   "metadata": {},
   "source": [
    "__Response:__\n",
    "\n",
    "As a dropshipper looking to start selling seblak with a 10% commission from each sale, the minimum net profit that can be obtained in one month is Rp450,011, while the maximum profit is Rp796,676. This can be achieved if I, as a dropshipper, can sell an average minimum of 279 products and an average maximum of 445 products. However, to remain competitive with other sellers, it's essential to set prices within the range of the minimum average price of Rp20,674 and the maximum average price of Rp24,492.\n",
    "\n"
   ]
  },
  {
   "cell_type": "markdown",
   "metadata": {},
   "source": [
    "### 3. Conduct hypothesis testing regarding the prices of goods in Jabodetabek and non-Jabodetabek. Is there a difference in the location of the seller's area for the prices used?"
   ]
  },
  {
   "cell_type": "code",
   "execution_count": 27,
   "metadata": {},
   "outputs": [
    {
     "data": {
      "text/plain": [
       "array(['Kab. Garut', 'Bandung', 'Depok', 'Tangerang Selatan',\n",
       "       'Jakarta Selatan', 'Jakarta Timur', 'Kab. Bogor', 'Jakarta Barat',\n",
       "       'Kab. Boyolali', 'Jakarta Pusat', 'Bekasi', 'Kab. Tangerang',\n",
       "       'Jakarta Utara', 'Kab. Indramayu', 'Surabaya', 'Kab. Bekasi',\n",
       "       'Kab. Bandung', 'Medan', 'Kab.Ciamis', 'Cimahi', 'Surakarta',\n",
       "       'Tangerang', 'Tasikmalaya', 'Palembang', 'Kab. Tasikmalaya',\n",
       "       'Semarang', 'Kab. Sukabumi', 'Banjarbaru', 'Kab. Majalengka',\n",
       "       'Makassar', 'Kab. Bandung Barat', 'Bogor', 'Kab. Sidoarjo',\n",
       "       'Malang', 'Kab. Mojokerto', 'Kab. Malang', 'Kab. Brebes',\n",
       "       'Kab. Gresik', 'Kab. Batang', 'Kab. Purwakarta', 'Kab. Kebumen',\n",
       "       'Kab. Sleman', 'Pekanbaru', 'Sukabumi'], dtype=object)"
      ]
     },
     "execution_count": 27,
     "metadata": {},
     "output_type": "execute_result"
    }
   ],
   "source": [
    "#To find out the location of the city selling seblak\n",
    "lokasi = tokped.lokasi_toko.unique()\n",
    "lokasi"
   ]
  },
  {
   "cell_type": "code",
   "execution_count": 28,
   "metadata": {},
   "outputs": [],
   "source": [
    "# Syntax for grouping Jabodetabek and non-Jabodetabek areas.\n",
    "jab = []\n",
    "non = []\n",
    "jabodetabek = tokped['lokasi_toko'].str.contains('Jakarta|Bogor|Depok|Tanggerang|Bekasi', regex=True)\n",
    "for korwil in jabodetabek:\n",
    "    if korwil == True:\n",
    "        jab.append(1)\n",
    "        non.append(0)\n",
    "\n",
    "    else:\n",
    "        jab.append(0)\n",
    "        non.append(1)\n",
    "\n",
    "\n",
    "tokped['jab'] = jab\n",
    "tokped['non'] = non"
   ]
  },
  {
   "cell_type": "markdown",
   "metadata": {},
   "source": [
    "__Hypothesis__\n",
    "H0: Jabodetabek average = non-Jabodetabek average (Jabodetabek average is the same as non-Jabodetabek average)\n",
    "\n",
    "H1: Jabodetabek average != non-Jabodetabek average ((Jabodetabek average is not the same as non-Jabodetabek average))"
   ]
  },
  {
   "cell_type": "code",
   "execution_count": 29,
   "metadata": {},
   "outputs": [
    {
     "name": "stdout",
     "output_type": "stream",
     "text": [
      "P-value: 8.975691311711243e-05\n"
     ]
    }
   ],
   "source": [
    "# syntax for testing 2 related samples\n",
    "t_stat,p_val = stats.ttest_rel(tokped.jab,tokped.non) \n",
    "print('P-value:',p_val)"
   ]
  },
  {
   "cell_type": "markdown",
   "metadata": {},
   "source": [
    "__Answer__  \n",
    "Based on the p-value below 0.05 (taking a 95% confidence level), which is 8.97 x 10^-5, the alternative hypothesis (H1) suggests that the average price of seblak products in Jabodetabek is different from the price of seblak outside Jabodetabek.\n",
    "\n",
    "These prices are influenced by various factors such as raw materials, production volumes of each seblak product, and target markets. It is suspected that prices in Jabodetabek are higher than those outside Jabodetabek due to lower raw material costs compared to those in Jabodetabek."
   ]
  },
  {
   "cell_type": "markdown",
   "metadata": {},
   "source": [
    "### 4. Analyze the correlation of whether buyers prefer products that are cheap?"
   ]
  },
  {
   "cell_type": "code",
   "execution_count": 31,
   "metadata": {},
   "outputs": [
    {
     "name": "stdout",
     "output_type": "stream",
     "text": [
      "r-correlation: -0.07, p-value: 0.06576496747150096\n"
     ]
    }
   ],
   "source": [
    "#Syntax for analyzing correlations with the Pearson technique\n",
    "corr_r, pval_p = stats.pearsonr(tokped['harga_produk'], tokped['jumlah_terjual'])\n",
    "\n",
    "\n",
    "print(f\"r-correlation: {corr_r:.2f}, p-value: {pval_p}\")\n",
    "#Spearson technique is used because there are 2 quantitative data and the data is considered to have a normal distribution."
   ]
  },
  {
   "cell_type": "markdown",
   "metadata": {},
   "source": [
    "__Answer__\n",
    "\n",
    "From the data, it can be concluded that there is a negative correlation, as indicated by the correlation coefficient of -0.07 and a p-value above 0.05. This implies an influence between the price of the product and the quantity sold.\n",
    "\n",
    "The negative correlation suggests that as the price increases, the quantity sold tends to decrease (as the correlation line slopes downwards to the right), and conversely, lower prices tend to result in higher sales volume."
   ]
  },
  {
   "cell_type": "markdown",
   "metadata": {},
   "source": [
    "## __Conclusion__"
   ]
  },
  {
   "cell_type": "markdown",
   "metadata": {},
   "source": [
    "Based on various analyses conducted, as a dropshipper, I can sell seblak within the price range of Rp20,674 to Rp24,492, which includes a 10% commission. To achieve a profit of Rp450,011 to Rp796,676 within one month, I need to sell between 279 to 445 units of the product. The pricing strategy is crucial as it directly impacts the potential profit and can attract more customers due to the preference for affordable products. However, to lower costs and increase profits, sourcing products from outside Jabodetabek, where raw materials are cheaper, can be beneficial. Choosing high-quality products from reputable sellers is essential as it influences the product rating. However, ratings tend to be consistent, making it relatively easier to maintain a good rating as long as the quality remains consistent.\n",
    "\n",
    "For instance, by selling \"SEBLAK JUARA INSTAN MASAK BASAH ASLI BANDUNG\" from Rasa Juara Indonesia at a price of Rp24,000 (with a 10% commission from the original price), I could potentially earn a profit of Rp890,000 within one month by selling 445 units."
   ]
  }
 ],
 "metadata": {
  "kernelspec": {
   "display_name": "base",
   "language": "python",
   "name": "python3"
  },
  "language_info": {
   "codemirror_mode": {
    "name": "ipython",
    "version": 3
   },
   "file_extension": ".py",
   "mimetype": "text/x-python",
   "name": "python",
   "nbconvert_exporter": "python",
   "pygments_lexer": "ipython3",
   "version": "3.11.5"
  }
 },
 "nbformat": 4,
 "nbformat_minor": 2
}
